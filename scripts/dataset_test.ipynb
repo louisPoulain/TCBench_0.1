{
 "cells": [
  {
   "cell_type": "code",
   "execution_count": 4,
   "metadata": {},
   "outputs": [
    {
     "name": "stdout",
     "output_type": "stream",
     "text": [
      "The autoreload extension is already loaded. To reload it, use:\n",
      "  %reload_ext autoreload\n"
     ]
    }
   ],
   "source": [
    "%load_ext autoreload\n",
    "%autoreload 2\n",
    "import numpy as np\n",
    "import glob\n",
    "import os"
   ]
  },
  {
   "cell_type": "code",
   "execution_count": 5,
   "metadata": {},
   "outputs": [
    {
     "name": "stdout",
     "output_type": "stream",
     "text": [
      "0 / 462 entries are unusable (pangu_2007365S15134_msl_u10_v10_deterministic_targets.npy)\n",
      "0 / 1078 entries are unusable (pangu_2008079S12069_msl_u10_v10_deterministic_targets.npy)\n",
      "0 / 28 entries are unusable (pangu_2008083S12102_msl_u10_v10_deterministic_targets.npy)\n",
      "0 / 1638 entries are unusable (pangu_2008185N13337_msl_u10_v10_deterministic_targets.npy)\n",
      "0 / 742 entries are unusable (pangu_2008193N20126_msl_u10_v10_deterministic_targets.npy)\n",
      "0 / 686 entries are unusable (pangu_2008194N11266_msl_u10_v10_deterministic_targets.npy)\n",
      "0 / 210 entries are unusable (pangu_2008198N10265_msl_u10_v10_deterministic_targets.npy)\n",
      "0 / 45 entries are unusable (pangu_2008201N32280_msl_u10_v10_deterministic_targets.npy)\n",
      "0 / 6 entries are unusable (pangu_2008203N18276_msl_u10_v10_deterministic_targets.npy)\n",
      "0 / 910 entries are unusable (pangu_2008268N12140_msl_u10_v10_deterministic_targets.npy)\n",
      "0 / 168 entries are unusable (pangu_2008270N39325_msl_u10_v10_deterministic_targets.npy)\n",
      "0 / 434 entries are unusable (pangu_2008272N08139_msl_u10_v10_deterministic_targets.npy)\n",
      "0 / 120 entries are unusable (pangu_2008275N16245_msl_u10_v10_deterministic_targets.npy)\n",
      "0 / 10 entries are unusable (pangu_2008278N13261_msl_u10_v10_deterministic_targets.npy)\n",
      "0 / 153 entries are unusable (pangu_2008319S07086_msl_u10_v10_deterministic_targets.npy)\n",
      "0 / 105 entries are unusable (pangu_2008320N23146_msl_u10_v10_deterministic_targets.npy)\n",
      "0 / 21 entries are unusable (pangu_2008323S08089_msl_u10_v10_deterministic_targets.npy)\n",
      "0 / 28 entries are unusable (pangu_2009008S13069_msl_u10_v10_deterministic_targets.npy)\n",
      "0 / 28 entries are unusable (pangu_2009011S16140_msl_u10_v10_deterministic_targets.npy)\n",
      "0 / 153 entries are unusable (pangu_2009024S17123_msl_u10_v10_deterministic_targets.npy)\n",
      "0 / 91 entries are unusable (pangu_2009025S12177_msl_u10_v10_deterministic_targets.npy)\n",
      "0 / 406 entries are unusable (pangu_2009308N11279_msl_u10_v10_deterministic_targets.npy)\n",
      "0 / 36 entries are unusable (pangu_2009313N11072_msl_u10_v10_deterministic_targets.npy)\n",
      "0 / 120 entries are unusable (pangu_2010066S19050_msl_u10_v10_deterministic_targets.npy)\n",
      "0 / 190 entries are unusable (pangu_2010067S25317_msl_u10_v10_deterministic_targets.npy)\n",
      "0 / 66 entries are unusable (pangu_2010069S12188_msl_u10_v10_deterministic_targets.npy)\n",
      "0 / 45 entries are unusable (pangu_2010070S15168_msl_u10_v10_deterministic_targets.npy)\n",
      "0 / 39 entries are unusable (pangu_2010203N22286_msl_u10_v10_deterministic_targets.npy)\n"
     ]
    }
   ],
   "source": [
    "filelist = sorted(glob.glob('/work/FAC/FGSE/IDYST/tbeucler/default/raw_data/ML_PREDICT/panguweather/PostProcessing/*deterministic_targets.npy'))\n",
    "filelist2 = sorted(glob.glob('/work/FAC/FGSE/IDYST/tbeucler/default/raw_data/ML_PREDICT/panguweather/PostProcessing/*deterministic_inp_start_time.npy'))\n",
    "filelist3 = sorted(glob.glob('/work/FAC/FGSE/IDYST/tbeucler/default/raw_data/ML_PREDICT/panguweather/PostProcessing/*deterministic_inp_ldt.npy'))\n",
    "l = []\n",
    "for k, file in enumerate(filelist):\n",
    "    arr = np.load(file, allow_pickle=True)\n",
    "    arr2 = np.load(filelist2[k], allow_pickle=True)\n",
    "    arr3 = np.load(filelist3[k], allow_pickle=True)\n",
    "    l.append([])\n",
    "    c = 0\n",
    "    for i in range(arr.shape[0]):\n",
    "        if arr[i, 2] == 9999 or arr[i, 3] == 9999:\n",
    "            c += 1\n",
    "            l[k].append((arr2[i]+np.timedelta64(arr3[i],'h')).astype(str))\n",
    "    print(f\"{c} / {arr.shape[0]} entries are unusable ({os.path.basename(file)})\")\n",
    "    if len(l[k]) > 0:\n",
    "        l[k] = np.unique(l[k])\n",
    "        print(l[k])\n",
    "        "
   ]
  },
  {
   "cell_type": "code",
   "execution_count": 13,
   "metadata": {},
   "outputs": [
    {
     "name": "stdout",
     "output_type": "stream",
     "text": [
      "Data normalized\n",
      "Input means:  ['fields: tensor([ 1.0097e+05, -6.6666e-01, -1.6967e+00])', 'coords: tensor([-14.6868, 132.2357])', 'ldt: tensor([63.2727])']\n",
      "Input stds:  ['fields: tensor([591.1404,   5.1368,   3.8409])', 'coords: tensor([0.8831, 3.0906])', 'ldt: tensor([42.3071])']\n",
      "Target means: tensor([-14.0769, 134.7656,  26.6883, 994.0974]) (Lat, Lon, Wnd, Msl)\n",
      "Target stds: tensor([0.6978, 5.5169, 8.8287, 8.2594]) (Lat, Lon, Wnd, Msl)\n"
     ]
    }
   ],
   "source": [
    "import dataset\n",
    "Dataset = dataset.TCData(data_path=\"/work/FAC/FGSE/IDYST/tbeucler/default/raw_data/ML_PREDICT/panguweather/PostProcessing/\",\n",
    "                             small=False, data_type='train', normalize=True)"
   ]
  },
  {
   "cell_type": "markdown",
   "metadata": {},
   "source": [
    "# Create Dataset with splits"
   ]
  },
  {
   "cell_type": "code",
   "execution_count": 1,
   "metadata": {},
   "outputs": [],
   "source": [
    "%load_ext autoreload\n",
    "%autoreload 2\n",
    "import dataset"
   ]
  },
  {
   "cell_type": "code",
   "execution_count": 23,
   "metadata": {},
   "outputs": [
    {
     "name": "stdout",
     "output_type": "stream",
     "text": [
      "3650\n"
     ]
    }
   ],
   "source": [
    "splits = {'train': 0.7, 'val': 0.1, 'test': 0.2}\n",
    "model_name = \"pangu\"\n",
    "data_path = \"/work/FAC/FGSE/IDYST/tbeucler/default/raw_data/ML_PREDICT/\"\n",
    "mode = \"deterministic\"\n",
    "\n",
    "dataset.split_data(data_path=data_path, model_name=model_name, splits=splits, mode=mode)"
   ]
  },
  {
   "cell_type": "markdown",
   "metadata": {},
   "source": [
    "# Train test"
   ]
  },
  {
   "cell_type": "code",
   "execution_count": 1,
   "metadata": {},
   "outputs": [
    {
     "name": "stdout",
     "output_type": "stream",
     "text": [
      "Data normalized\n",
      "Data normalized\n",
      "Data normalized\n",
      "Train: 5302 samples Val: 1078 samples Test: 1638 samples\n"
     ]
    }
   ],
   "source": [
    "%load_ext autoreload\n",
    "%autoreload 2\n",
    "\n",
    "import dataset\n",
    "from model import CNN_TC, train, test\n",
    "import torch\n",
    "\n",
    "train_dataset = dataset.TCData(data_path=\"/work/FAC/FGSE/IDYST/tbeucler/default/raw_data/ML_PREDICT/\",\n",
    "                             small=False, data_type='train', normalize=True, model_name=\"pangu\", mode=\"deterministic\")\n",
    "val_dataset = dataset.TCData(data_path=\"/work/FAC/FGSE/IDYST/tbeucler/default/raw_data/ML_PREDICT/\",\n",
    "                             small=False, data_type='val', normalize=True, model_name=\"pangu\", mode=\"deterministic\")\n",
    "test_dataset = dataset.TCData(data_path=\"/work/FAC/FGSE/IDYST/tbeucler/default/raw_data/ML_PREDICT/\",\n",
    "                             small=False, data_type='test', normalize=True, model_name=\"pangu\", mode=\"deterministic\")\n",
    "\n",
    "criterion = torch.nn.MSELoss()\n",
    "device = torch.device('cuda' if torch.cuda.is_available() else 'cpu')\n",
    "\n",
    "train_loader = torch.utils.data.DataLoader(train_dataset, batch_size=16, shuffle=True, num_workers=4)\n",
    "val_loader = torch.utils.data.DataLoader(val_dataset, batch_size=1, shuffle=False, num_workers=4)\n",
    "test_loader = torch.utils.data.DataLoader(test_dataset, batch_size=1, shuffle=False, num_workers=4)\n",
    "\n",
    "print(f\"Train: {len(train_loader.dataset)} samples\", f\"Val: {len(val_loader.dataset)} samples\", f\"Test: {len(test_loader.dataset)} samples\")"
   ]
  },
  {
   "cell_type": "code",
   "execution_count": 2,
   "metadata": {},
   "outputs": [
    {
     "name": "stdout",
     "output_type": "stream",
     "text": [
      "CNN_TC(\n",
      "  (conv1): Conv2d(3, 16, kernel_size=(3, 3), stride=(1, 1), padding=(1, 1))\n",
      "  (conv2): Conv2d(16, 16, kernel_size=(3, 3), stride=(1, 1), padding=(1, 1))\n",
      "  (conv3): Conv2d(16, 16, kernel_size=(3, 3), stride=(1, 1), padding=(1, 1))\n",
      "  (conv4): Conv2d(16, 1, kernel_size=(3, 3), stride=(1, 1), padding=(1, 1))\n",
      "  (conv5): Conv2d(4, 1, kernel_size=(3, 3), stride=(1, 1), padding=(1, 1))\n",
      "  (bn1): BatchNorm2d(16, eps=1e-05, momentum=0.1, affine=True, track_running_stats=True)\n",
      "  (bn2): BatchNorm2d(16, eps=1e-05, momentum=0.1, affine=True, track_running_stats=True)\n",
      "  (bn3): BatchNorm2d(16, eps=1e-05, momentum=0.1, affine=True, track_running_stats=True)\n",
      "  (bn4): BatchNorm2d(1, eps=1e-05, momentum=0.1, affine=True, track_running_stats=True)\n",
      "  (pool1): MaxPool2d(kernel_size=2, stride=2, padding=0, dilation=1, ceil_mode=False)\n",
      "  (pool2): MaxPool2d(kernel_size=2, stride=2, padding=0, dilation=1, ceil_mode=False)\n",
      "  (pool3): MaxPool2d(kernel_size=2, stride=2, padding=0, dilation=1, ceil_mode=False)\n",
      "  (embedding1): Embedding(721, 30)\n",
      "  (embedding2): Embedding(1440, 30)\n",
      "  (embedding3): Embedding(28, 30)\n",
      "  (resconv1): Conv2d(3, 1, kernel_size=(4, 4), stride=(1, 1), padding=(1, 1), dilation=(71, 71))\n",
      "  (resconv2): Conv2d(16, 1, kernel_size=(3, 3), stride=(1, 1), dilation=(45, 45))\n",
      "  (resconv3): Conv2d(16, 1, kernel_size=(3, 3), stride=(1, 1), dilation=(15, 15))\n",
      "  (reshape): Flatten(start_dim=1, end_dim=-1)\n",
      "  (final_conv): Conv2d(1, 4, kernel_size=(33, 30), stride=(1, 1))\n",
      ")\n"
     ]
    }
   ],
   "source": [
    "TCmodel = CNN_TC(in_channels=3, out_channels=16)\n",
    "optim = torch.optim.Adam(TCmodel.parameters(), lr=0.001)\n",
    "print(TCmodel)"
   ]
  },
  {
   "cell_type": "code",
   "execution_count": 4,
   "metadata": {},
   "outputs": [
    {
     "data": {
      "image/png": "[encoded data removed]",
      "text/plain": [
       "<Figure size 640x480 with 1 Axes>"
      ]
     },
     "metadata": {},
     "output_type": "display_data"
    },
    {
     "data": {},
     "metadata": {},
     "output_type": "display_data"
    },
    {
     "data": {
      "application/vnd.jupyter.widget-view+json": {
       "model_id": "2fd6d3d15645452a813abea2e87bae6b",
       "version_major": 2,
       "version_minor": 0
      },
      "text/plain": [
       "VBox(children=(Training:   0%|          | 0/5 [00:00<?, ?epoch/s],))"
      ]
     },
     "metadata": {},
     "output_type": "display_data"
    }
   ],
   "source": [
    "train_losses, val_losses = train(model=TCmodel, train_loader=train_loader, val_loader=val_loader, optimizer=optim, criterion=criterion, device=device, epochs=50)"
   ]
  },
  {
   "cell_type": "code",
   "execution_count": 5,
   "metadata": {},
   "outputs": [
    {
     "name": "stdout",
     "output_type": "stream",
     "text": [
      "0.048186410229698 1.4714468295369747\n"
     ]
    }
   ],
   "source": [
    "print(train_losses.min(), val_losses.max())"
   ]
  },
  {
   "cell_type": "code",
   "execution_count": 6,
   "metadata": {},
   "outputs": [
    {
     "data": {
      "application/vnd.jupyter.widget-view+json": {
       "model_id": "334ef0cc45f34926a47b9d356d5a1a40",
       "version_major": 2,
       "version_minor": 0
      },
      "text/plain": [
       "VBox(children=(Test:   0%|          | 0/1638 [00:00<?, ?batch/s],))"
      ]
     },
     "metadata": {},
     "output_type": "display_data"
    },
    {
     "name": "stdout",
     "output_type": "stream",
     "text": [
      "1.4130307292165996\n"
     ]
    }
   ],
   "source": [
    "test_losses = test(model=TCmodel, test_loader=test_loader, criterion=criterion, device=device)\n",
    "print(test_losses)"
   ]
  }
 ],
 "metadata": {
  "kernelspec": {
   "display_name": "Python 3",
   "language": "python",
   "name": "python3"
  },
  "language_info": {
   "codemirror_mode": {
    "name": "ipython",
    "version": 3
   },
   "file_extension": ".py",
   "mimetype": "text/x-python",
   "name": "python",
   "nbconvert_exporter": "python",
   "pygments_lexer": "ipython3",
   "version": "3.10.13"
  }
 },
 "nbformat": 4,
 "nbformat_minor": 2
}
