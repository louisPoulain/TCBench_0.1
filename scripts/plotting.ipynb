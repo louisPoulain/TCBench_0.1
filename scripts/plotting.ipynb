{
 "cells": [
  {
   "cell_type": "code",
   "execution_count": 1,
   "metadata": {},
   "outputs": [],
   "source": [
    "%load_ext autoreload\n",
    "%autoreload 2\n",
    "import plotting as p"
   ]
  },
  {
   "cell_type": "code",
   "execution_count": null,
   "metadata": {},
   "outputs": [],
   "source": [
    "model_names = [\"graphcast\", \"pangu\"]\n",
    "dates = [20191122, 20191128] \n",
    "times = [0, 12]\n",
    "lead_times = [168, 12]\n",
    "cmap_mlsp = \"Blues\"\n",
    "cmap_wind = \"viridis\"\n",
    "var_names = [\"mslp\", \"wind\"]\n",
    "plot_dir = \"/work/FAC/FGSE/IDYST/tbeucler/default/louis/plots/\"\n",
    "era5_location = \"/work/FAC/FGSE/IDYST/tbeucler/default/raw_data/ECMWF/ERA5/\"\n",
    "model_path = \"/work/FAC/FGSE/IDYST/tbeucler/default/raw_data/ML_PREDICT/\"\n",
    "dpi=1000\n",
    "\n",
    "\n",
    "res = p.compare_models(model_names=model_names, dates=dates, times=times, lead_times=lead_times, cmap_mlsp=cmap_mlsp, \n",
    "                cmap_wind=cmap_wind, var_names=var_names, plot_dir=plot_dir, era5_location=era5_location, model_path=model_path, dpi=dpi)"
   ]
  },
  {
   "cell_type": "code",
   "execution_count": null,
   "metadata": {},
   "outputs": [],
   "source": [
    "p.test_canvas_holder(data, suptitle, pic_name, col_titles, var_names, lat_min, lat_max, lon_min, lon_max, cmap_mslp, cmap_wind, plot_dir)"
   ]
  },
  {
   "cell_type": "code",
   "execution_count": null,
   "metadata": {},
   "outputs": [],
   "source": [
    "model_path = \"/scratch/lpoulain/\"\n",
    "model_names = [\"graphcast\", \"pangu\"]\n",
    "dates = [20191122] \n",
    "times = [0]\n",
    "lead_times = [60]\n",
    "cmap_mlsp = \"Blues\"\n",
    "cmap_wind = \"viridis\"\n",
    "var_names = [\"mslp\", \"wind\"]\n",
    "plot_dir = \"/work/FAC/FGSE/IDYST/tbeucler/default/louis/plots/\"\n",
    "era5_location=\"/work/FAC/FGSE/IDYST/tbeucler/default/raw_data/ECMWF/ERA5/\"\n",
    "\n",
    "p.compare_models(model_path, model_names, dates, times, lead_times, cmap_mlsp, \n",
    "                 cmap_wind, var_names, plot_dir, era5_location=era5_location)"
   ]
  },
  {
   "cell_type": "code",
   "execution_count": null,
   "metadata": {},
   "outputs": [],
   "source": []
  }
 ],
 "metadata": {
  "kernelspec": {
   "display_name": "Python 3",
   "language": "python",
   "name": "python3"
  },
  "language_info": {
   "codemirror_mode": {
    "name": "ipython",
    "version": 3
   },
   "file_extension": ".py",
   "mimetype": "text/x-python",
   "name": "python",
   "nbconvert_exporter": "python",
   "pygments_lexer": "ipython3",
   "version": "3.10.13"
  }
 },
 "nbformat": 4,
 "nbformat_minor": 2
}
